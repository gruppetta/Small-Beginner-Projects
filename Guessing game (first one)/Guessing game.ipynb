{
 "cells": [
  {
   "cell_type": "code",
   "execution_count": 6,
   "metadata": {},
   "outputs": [
    {
     "name": "stdout",
     "output_type": "stream",
     "text": [
      "Enter a number21\n",
      "The guess is more\n",
      "Enter a number20\n",
      "Well done you guessed in 2\n"
     ]
    }
   ],
   "source": [
    "number = 20\n",
    "guess = 0\n",
    "tries = 0 \n",
    "\n",
    "while guess != number:\n",
    "    tries += 1\n",
    "    guess = int(input('Enter a number'))\n",
    "    if guess == number: \n",
    "        print(f'Well done you guessed in {tries}')\n",
    "        break\n",
    "    elif guess > number:\n",
    "        print('The guess is more')\n",
    "    else:\n",
    "        print ('The guess is less')\n",
    "        continue \n",
    "        "
   ]
  }
 ],
 "metadata": {
  "kernelspec": {
   "display_name": "Python 3",
   "language": "python",
   "name": "python3"
  },
  "language_info": {
   "codemirror_mode": {
    "name": "ipython",
    "version": 3
   },
   "file_extension": ".py",
   "mimetype": "text/x-python",
   "name": "python",
   "nbconvert_exporter": "python",
   "pygments_lexer": "ipython3",
   "version": "3.7.3"
  }
 },
 "nbformat": 4,
 "nbformat_minor": 2
}